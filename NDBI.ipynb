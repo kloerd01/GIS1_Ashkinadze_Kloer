{
 "cells": [
  {
   "cell_type": "markdown",
   "id": "c086e4da",
   "metadata": {},
   "source": [
    "# **Normalized Difference Built-Up Index (NDBI) Dubai**\n",
    "\n",
    "# Urban Evolution of Dubai - A Comparative Remote Sensing Analysis from 1995 to 2024\n",
    "\n",
    "**Erik Ashkinadze (erik.ashkinadze@ruhr-uni-bochum.de)**\n",
    "\n",
    "**Devon Klör (devon.kloer@ruhr-uni-bochum.de)**\n",
    "\n",
    "**Course:** Geographic Information Systems (GIS I): Databases and Programming\n",
    "\n",
    "**Professor:** Jun.-Prof. Dr. Andreas Rienow\n",
    "\n",
    "**References:** Zha, Y.; Gao, J.; Ni, S. (2003): Use of Normalized Difference Built-Up Index in Automatically Mapping Urban Areas from TM Imagery. In: International Journal of Remote Sensing, 24: 583-594.\n",
    "https://doi.org/10.1080/01431160304987\n",
    "\n",
    "**Repository:** GIS 1 Course \"03_Create_landsat_timelapse_byQuishengWu\""
   ]
  },
  {
   "cell_type": "code",
   "execution_count": null,
   "id": "ab8fe401",
   "metadata": {},
   "outputs": [
    {
     "data": {
      "text/html": [
       "\n",
       "            <style>\n",
       "                .geemap-dark {\n",
       "                    --jp-widgets-color: white;\n",
       "                    --jp-widgets-label-color: white;\n",
       "                    --jp-ui-font-color1: white;\n",
       "                    --jp-layout-color2: #454545;\n",
       "                    background-color: #383838;\n",
       "                }\n",
       "\n",
       "                .geemap-dark .jupyter-button {\n",
       "                    --jp-layout-color3: #383838;\n",
       "                }\n",
       "\n",
       "                .geemap-colab {\n",
       "                    background-color: var(--colab-primary-surface-color, white);\n",
       "                }\n",
       "\n",
       "                .geemap-colab .jupyter-button {\n",
       "                    --jp-layout-color3: var(--colab-primary-surface-color, white);\n",
       "                }\n",
       "            </style>\n",
       "            "
      ],
      "text/plain": [
       "<IPython.core.display.HTML object>"
      ]
     },
     "metadata": {},
     "output_type": "display_data"
    },
    {
     "data": {
      "application/vnd.jupyter.widget-view+json": {
       "model_id": "cf60fc3039d143558c5f8aabd99484a7",
       "version_major": 2,
       "version_minor": 0
      },
      "text/plain": [
       "Map(center=[25.07, 55.18], controls=(WidgetControl(options=['position', 'transparent_bg'], widget=SearchDataGU…"
      ]
     },
     "execution_count": 3,
     "metadata": {},
     "output_type": "execute_result"
    }
   ],
   "source": [
    "import ee\n",
    "import geemap\n",
    "\n",
    "# Authenticate and Initialize Earth Engine with the project ID\n",
    "ee.Authenticate()\n",
    "ee.Initialize(project='ee-dkloer01')\n",
    "\n",
    "# Shapefile einladen (Pfad zur Datei anpassen)\n",
    "shapefile_path = \"./Dubai_Shapes/Dubai.shp\"\n",
    "dubai = geemap.shp_to_ee(shapefile_path)\n",
    "\n",
    "# Loading the Image Collections from Landsat 5, 7 and 8\n",
    "# Landsat 5 for 1995 (TM Sensor)\n",
    "ls_ic_1995 = ee.ImageCollection('LANDSAT/LT05/C02/T1_L2') \\\n",
    "    .filterDate('1995-01-01', '1995-12-31') \\\n",
    "    .filterBounds(dubai) \\\n",
    "    .median()\n",
    "\n",
    "# Landsat 7 for 2005 (TM Sensor)\n",
    "ls_ic_2005 = ee.ImageCollection('LANDSAT/LE07/C02/T1_L2') \\\n",
    "    .filterDate('2005-01-01', '2005-12-31') \\\n",
    "    .filterBounds(dubai) \\\n",
    "    .median()\n",
    "\n",
    "# Landsat 8 for 2015 (OLI Sensor)\n",
    "ls_ic_2015 = ee.ImageCollection('LANDSAT/LC08/C02/T1_L2') \\\n",
    "    .filterDate('2015-01-01', '2015-12-31') \\\n",
    "    .filterBounds(dubai) \\\n",
    "    .median()\n",
    "\n",
    "# Landsat 8 for 2025 (OLI Sensor)\n",
    "ls_ic_2024 = ee.ImageCollection('LANDSAT/LC08/C02/T1_L2') \\\n",
    "    .filterDate('2024-01-01', '2024-12-31') \\\n",
    "    .filterBounds(dubai) \\\n",
    "    .median()\n",
    "\n",
    "# Calculation of the Normalized Difference Vegetation Index (NDVI)\n",
    "# Using band 4 (NIR) and band 3 (Red) for historic analysis with Landsat 5 & 7\n",
    "# Using band 5 (NIR) and band 4 (Red) for current analysis with Landsat 8\n",
    "def calculate_ndvi(image, year):\n",
    "    if year <= 2005:\n",
    "        # Landsat 5 & 7\n",
    "        nir = image.select('SR_B4')\n",
    "        red = image.select('SR_B3')\n",
    "    else:\n",
    "        # Landsat 8\n",
    "        nir = image.select('SR_B5')\n",
    "        red = image.select('SR_B4')\n",
    "\n",
    "    # NDVI formula (orientated on Huang et al. 2020)\n",
    "    numerator = (nir.subtract(red))\n",
    "    denominator = (nir.add(red))\n",
    "    ndvi = numerator.divide(denominator)\n",
    "    return ndvi.addBands(ndvi.rename('NDVI'))\n",
    "\n",
    "# Calculate NDVI for each year\n",
    "ndvi_bands_1995 = calculate_ndvi(ls_ic_1995, 1995)\n",
    "ndvi_1995 = ndvi_bands_1995.select('NDVI')\n",
    "\n",
    "ndvi_bands_2005 = calculate_ndvi(ls_ic_2005, 2005)\n",
    "ndvi_2005 = ndvi_bands_2005.select('NDVI')\n",
    "\n",
    "ndvi_bands_2015 = calculate_ndvi(ls_ic_2015, 2015)\n",
    "ndvi_2015 = ndvi_bands_2015.select('NDVI')\n",
    "\n",
    "ndvi_bands_2024 = calculate_ndvi(ls_ic_2024, 2024)\n",
    "ndvi_2024 = ndvi_bands_2024.select('NDVI')\n",
    "\n",
    "\n",
    "# Calculation of the Normalized Difference Built-Up Index (NDBI)\n",
    "# Using band 5 (SWIR1), band 4 (NIR) and band 1 (Blue) for historic analysis with Landsat 5 & 7\n",
    "# Using band 6 (SWIR1), band 5 (NIR) and band 2 (Blue) for current analysis with Landsat 8\n",
    "def calculate_ndbi(image, year):\n",
    "    if year <= 2005:\n",
    "        # Landsat 5 & 7\n",
    "        swir1 = image.select('SR_B5')\n",
    "        nir = image.select('SR_B4')\n",
    "    else:\n",
    "        # Landsat 8\n",
    "        swir1 = image.select('SR_B6')\n",
    "        nir = image.select('SR_B5')\n",
    "\n",
    "    # NDBI formula (orientated on Zha et al. 2003)\n",
    "    numerator = (swir1.subtract(nir))\n",
    "    denominator = (swir1.add(nir))\n",
    "    ndbi = numerator.divide(denominator)\n",
    "    return ndbi.addBands(ndbi.rename('NDBI'))\n",
    "\n",
    "# Calculate NDVI for each year\n",
    "ndbi_bands_1995 = calculate_ndbi(ls_ic_1995, 1995)\n",
    "ndbi_1995 = ndbi_bands_1995.select('NDBI')\n",
    "\n",
    "ndbi_bands_2005 = calculate_ndbi(ls_ic_2005, 2005)\n",
    "ndbi_2005 = ndbi_bands_2005.select('NDBI')\n",
    "\n",
    "ndbi_bands_2015 = calculate_ndbi(ls_ic_2015, 2015)\n",
    "ndbi_2015 = ndbi_bands_2015.select('NDBI')\n",
    "\n",
    "ndbi_bands_2024 = calculate_ndbi(ls_ic_2024, 2024)\n",
    "ndbi_2024 = ndbi_bands_2024.select('NDBI')\n",
    "\n",
    "# NDBI Change Detection (Difference between 1995 und 2024)\n",
    "ndbi_change = ndbi_2024.subtract(ndbi_1995).rename('NDBI Change')\n",
    "\n",
    "# Calculation of Built Areas by subtracting NDVI from NDBI\n",
    "ba_1995 = ndbi_1995.subtract(ndvi_1995).rename('BA').clip(dubai)\n",
    "ba_2005 = ndbi_2005.subtract(ndvi_2005).rename('BA').clip(dubai)\n",
    "ba_2015 = ndbi_2015.subtract(ndvi_2015).rename('BA').clip(dubai)\n",
    "ba_2024 = ndbi_2024.subtract(ndvi_2024).rename('BA').clip(dubai)\n",
    "\n",
    "# NDBI Change Detection (Difference between 1995 und 2024)\n",
    "ba_change = ba_2024.subtract(ba_1995).rename('BA Change').clip(dubai)\n",
    "\n",
    "\n",
    "# A color palette for visualizing NDBI (Normalized Difference Built-up Index) values.\n",
    "ndbi_palette = [\n",
    "    '#ff0501',  \n",
    "    '#ffffef',  \n",
    "    '#1a05a9'  \n",
    "]\n",
    "\n",
    "# A color palette for visualizing the change in NDBI values over time\n",
    "ndbi_change_palette = [\n",
    "    'red',  \n",
    "    'white',  \n",
    "    'blue'   \n",
    "]\n",
    "\n",
    "# These visualization settings define how the NDBI values are mapped to the color palette\n",
    "ndbi_vis = {\n",
    "    'min': -0.3, # The minimum NDBI value to be displayed in the visualization. Values below this will be colored with the lowest end of the palette.\n",
    "    'max': 0.3, # The maximum NDBI change value to be displayed. A positive value indicates an increase in NDBI.\n",
    "    'palette': ndbi_palette\n",
    "}\n",
    "\n",
    "# These visualization settings define how the NDBI change values are visualized\n",
    "ndbi_change_vis = {\n",
    "    'min': -0.3,\n",
    "    'max': 0.3,\n",
    "    'palette': ndbi_change_palette\n",
    "}\n",
    "\n",
    "# Create an interactive Map\n",
    "map = geemap.Map(center=[25.07, 55.18], zoom=10)\n",
    "\n",
    "# Add the Study Area as a Maplayer\n",
    "map.addLayer(dubai.style(**{'color': 'black', 'width': 2}), {}, 'Study Area')\n",
    "\n",
    "# Add the NDVI Layer to the Map\n",
    "map.addLayer(ndbi_1995.clip(dubai), ndbi_vis, 'NDBI 1995')\n",
    "map.addLayer(ndbi_2005.clip(dubai), ndbi_vis, 'NDBI 2005')\n",
    "map.addLayer(ndbi_2015.clip(dubai), ndbi_vis, 'NDBI 2015')\n",
    "map.addLayer(ndbi_2024.clip(dubai), ndbi_vis, 'NDBI 2024')\n",
    "map.addLayer(ndbi_change.clip(dubai), ndbi_change_vis, 'NDBI Change')\n",
    "\n",
    "# Add the Built Areas Layer to the Map\n",
    "map.addLayer(ba_1995.clip(dubai), ndbi_vis, 'BA 1995')\n",
    "map.addLayer(ba_2005.clip(dubai), ndbi_vis, 'BA 2005')\n",
    "map.addLayer(ba_2015.clip(dubai), ndbi_vis, 'BA 2015')\n",
    "map.addLayer(ba_2024.clip(dubai), ndbi_vis, 'BA 2024')\n",
    "map.addLayer(ba_change.clip(dubai), ndbi_change_vis, 'BA Change')\n",
    "\n",
    "# Display the Map\n",
    "map\n"
   ]
  },
  {
   "cell_type": "code",
   "execution_count": null,
   "id": "9ef750ea",
   "metadata": {},
   "outputs": [
    {
     "data": {
      "text/html": [
       "\n",
       "            <style>\n",
       "                .geemap-dark {\n",
       "                    --jp-widgets-color: white;\n",
       "                    --jp-widgets-label-color: white;\n",
       "                    --jp-ui-font-color1: white;\n",
       "                    --jp-layout-color2: #454545;\n",
       "                    background-color: #383838;\n",
       "                }\n",
       "\n",
       "                .geemap-dark .jupyter-button {\n",
       "                    --jp-layout-color3: #383838;\n",
       "                }\n",
       "\n",
       "                .geemap-colab {\n",
       "                    background-color: var(--colab-primary-surface-color, white);\n",
       "                }\n",
       "\n",
       "                .geemap-colab .jupyter-button {\n",
       "                    --jp-layout-color3: var(--colab-primary-surface-color, white);\n",
       "                }\n",
       "            </style>\n",
       "            "
      ],
      "text/plain": [
       "<IPython.core.display.HTML object>"
      ]
     },
     "metadata": {},
     "output_type": "display_data"
    },
    {
     "name": "stdout",
     "output_type": "stream",
     "text": [
      "{'type': 'ImageCollection', 'bands': [], 'features': [{'type': 'Image', 'bands': [{'id': 'BA', 'data_type': {'type': 'PixelType', 'precision': 'double'}, 'crs': 'EPSG:4326', 'crs_transform': [1, 0, 0, 0, 1, 0]}], 'properties': {'system:index': '0'}}, {'type': 'Image', 'bands': [{'id': 'BA', 'data_type': {'type': 'PixelType', 'precision': 'double'}, 'crs': 'EPSG:4326', 'crs_transform': [1, 0, 0, 0, 1, 0]}], 'properties': {'system:index': '1'}}, {'type': 'Image', 'bands': [{'id': 'BA', 'data_type': {'type': 'PixelType', 'precision': 'double'}, 'crs': 'EPSG:4326', 'crs_transform': [1, 0, 0, 0, 1, 0]}], 'properties': {'system:index': '2'}}, {'type': 'Image', 'bands': [{'id': 'BA', 'data_type': {'type': 'PixelType', 'precision': 'double'}, 'crs': 'EPSG:4326', 'crs_transform': [1, 0, 0, 0, 1, 0]}], 'properties': {'system:index': '3'}}]}\n"
     ]
    }
   ],
   "source": [
    "years = [1995, 2005, 2015, 2024]\n",
    "# It takes a list of 'ee.Image' objects as input and combines them into a single 'ee.ImageCollection' object.\n",
    "ba_collection = ee.ImageCollection([ba_1995, ba_2005, ba_2015, ba_2024])"
   ]
  },
  {
   "cell_type": "code",
   "execution_count": null,
   "id": "91c143b2",
   "metadata": {},
   "outputs": [
    {
     "data": {
      "text/html": [
       "\n",
       "            <style>\n",
       "                .geemap-dark {\n",
       "                    --jp-widgets-color: white;\n",
       "                    --jp-widgets-label-color: white;\n",
       "                    --jp-ui-font-color1: white;\n",
       "                    --jp-layout-color2: #454545;\n",
       "                    background-color: #383838;\n",
       "                }\n",
       "\n",
       "                .geemap-dark .jupyter-button {\n",
       "                    --jp-layout-color3: #383838;\n",
       "                }\n",
       "\n",
       "                .geemap-colab {\n",
       "                    background-color: var(--colab-primary-surface-color, white);\n",
       "                }\n",
       "\n",
       "                .geemap-colab .jupyter-button {\n",
       "                    --jp-layout-color3: var(--colab-primary-surface-color, white);\n",
       "                }\n",
       "            </style>\n",
       "            "
      ],
      "text/plain": [
       "<IPython.core.display.HTML object>"
      ]
     },
     "metadata": {},
     "output_type": "display_data"
    },
    {
     "name": "stdout",
     "output_type": "stream",
     "text": [
      "{'type': 'ImageCollection', 'bands': [], 'features': [{'type': 'Image', 'bands': [{'id': 'BA Change', 'data_type': {'type': 'PixelType', 'precision': 'double'}, 'crs': 'EPSG:4326', 'crs_transform': [1, 0, 0, 0, 1, 0]}], 'properties': {'system:index': '0'}}]}\n"
     ]
    }
   ],
   "source": [
    "ba_change_ = ee.ImageCollection([ba_change])"
   ]
  },
  {
   "cell_type": "code",
   "execution_count": null,
   "id": "81d6909a",
   "metadata": {},
   "outputs": [
    {
     "data": {
      "text/html": [
       "\n",
       "            <style>\n",
       "                .geemap-dark {\n",
       "                    --jp-widgets-color: white;\n",
       "                    --jp-widgets-label-color: white;\n",
       "                    --jp-ui-font-color1: white;\n",
       "                    --jp-layout-color2: #454545;\n",
       "                    background-color: #383838;\n",
       "                }\n",
       "\n",
       "                .geemap-dark .jupyter-button {\n",
       "                    --jp-layout-color3: #383838;\n",
       "                }\n",
       "\n",
       "                .geemap-colab {\n",
       "                    background-color: var(--colab-primary-surface-color, white);\n",
       "                }\n",
       "\n",
       "                .geemap-colab .jupyter-button {\n",
       "                    --jp-layout-color3: var(--colab-primary-surface-color, white);\n",
       "                }\n",
       "            </style>\n",
       "            "
      ],
      "text/plain": [
       "<IPython.core.display.HTML object>"
      ]
     },
     "metadata": {},
     "output_type": "display_data"
    }
   ],
   "source": [
    "# A color palette for visualizing Built-Up area values.\n",
    "ba_palette = [\n",
    "    '#ff0501',  \n",
    "    '#ffffef',  \n",
    "    '#1a05a9'  \n",
    "]\n",
    "\n",
    "# These visualization settings define how the BA values are mapped to the color palette\n",
    "ba_vis = {\n",
    "    'min': -0.3, \n",
    "    'max': 0.3, \n",
    "    'palette': ba_palette\n",
    "}\n"
   ]
  },
  {
   "cell_type": "code",
   "execution_count": null,
   "id": "dc283194",
   "metadata": {},
   "outputs": [
    {
     "data": {
      "text/html": [
       "\n",
       "            <style>\n",
       "                .geemap-dark {\n",
       "                    --jp-widgets-color: white;\n",
       "                    --jp-widgets-label-color: white;\n",
       "                    --jp-ui-font-color1: white;\n",
       "                    --jp-layout-color2: #454545;\n",
       "                    background-color: #383838;\n",
       "                }\n",
       "\n",
       "                .geemap-dark .jupyter-button {\n",
       "                    --jp-layout-color3: #383838;\n",
       "                }\n",
       "\n",
       "                .geemap-colab {\n",
       "                    background-color: var(--colab-primary-surface-color, white);\n",
       "                }\n",
       "\n",
       "                .geemap-colab .jupyter-button {\n",
       "                    --jp-layout-color3: var(--colab-primary-surface-color, white);\n",
       "                }\n",
       "            </style>\n",
       "            "
      ],
      "text/plain": [
       "<IPython.core.display.HTML object>"
      ]
     },
     "metadata": {},
     "output_type": "display_data"
    }
   ],
   "source": [
    "# This dictionary 'video_args_ba' contains the necessary parameters to generate a time-lapse video of the BA data for Dubai.\n",
    "video_args_ba = {\n",
    "    'dimensions': 768,\n",
    "    'region': dubai.geometry().bounds(),\n",
    "    'framesPerSecond': 2,\n",
    "    'min': ba_vis['min'],\n",
    "    'max': ba_vis['max'],\n",
    "    'palette': ba_vis['palette'],\n",
    "    'format': 'gif'\n",
    "}"
   ]
  },
  {
   "cell_type": "code",
   "execution_count": null,
   "id": "d3c4eea3",
   "metadata": {},
   "outputs": [
    {
     "data": {
      "text/html": [
       "\n",
       "            <style>\n",
       "                .geemap-dark {\n",
       "                    --jp-widgets-color: white;\n",
       "                    --jp-widgets-label-color: white;\n",
       "                    --jp-ui-font-color1: white;\n",
       "                    --jp-layout-color2: #454545;\n",
       "                    background-color: #383838;\n",
       "                }\n",
       "\n",
       "                .geemap-dark .jupyter-button {\n",
       "                    --jp-layout-color3: #383838;\n",
       "                }\n",
       "\n",
       "                .geemap-colab {\n",
       "                    background-color: var(--colab-primary-surface-color, white);\n",
       "                }\n",
       "\n",
       "                .geemap-colab .jupyter-button {\n",
       "                    --jp-layout-color3: var(--colab-primary-surface-color, white);\n",
       "                }\n",
       "            </style>\n",
       "            "
      ],
      "text/plain": [
       "<IPython.core.display.HTML object>"
      ]
     },
     "metadata": {},
     "output_type": "display_data"
    },
    {
     "name": "stdout",
     "output_type": "stream",
     "text": [
      "Generating URL...\n",
      "Downloading GIF image from https://earthengine.googleapis.com/v1/projects/ee-dkloer01/videoThumbnails/8c8466f936b27f49ba1042ee9f9866d2-3ab530f301d8be5228c4aa829261ef28:getPixels\n",
      "Please wait ...\n",
      "The GIF image has been saved to: c:\\Users\\dkloe\\Downloads\\GIS1_Codes\\ba_selected_years.gif\n"
     ]
    }
   ],
   "source": [
    "# specifies the output file path and name for the generated GIF video\n",
    "out_gif_ba = './ba_selected_years.gif'\n",
    "geemap.download_ee_video(ba_collection, video_args_ba, out_gif_ba)\n",
    "\n",
    "# This function takes an existing GIF video and adds text overlays to each frame.\n",
    "geemap.add_text_to_gif(out_gif_ba, './ba_dubai_text.gif', text_sequence=years,\n",
    "                       xy=('3%', '5%'), font_size=30, font_color='white', add_progress_bar=False, duration=500)"
   ]
  },
  {
   "cell_type": "code",
   "execution_count": null,
   "id": "535b642b",
   "metadata": {},
   "outputs": [
    {
     "data": {
      "text/html": [
       "\n",
       "            <style>\n",
       "                .geemap-dark {\n",
       "                    --jp-widgets-color: white;\n",
       "                    --jp-widgets-label-color: white;\n",
       "                    --jp-ui-font-color1: white;\n",
       "                    --jp-layout-color2: #454545;\n",
       "                    background-color: #383838;\n",
       "                }\n",
       "\n",
       "                .geemap-dark .jupyter-button {\n",
       "                    --jp-layout-color3: #383838;\n",
       "                }\n",
       "\n",
       "                .geemap-colab {\n",
       "                    background-color: var(--colab-primary-surface-color, white);\n",
       "                }\n",
       "\n",
       "                .geemap-colab .jupyter-button {\n",
       "                    --jp-layout-color3: var(--colab-primary-surface-color, white);\n",
       "                }\n",
       "            </style>\n",
       "            "
      ],
      "text/plain": [
       "<IPython.core.display.HTML object>"
      ]
     },
     "metadata": {},
     "output_type": "display_data"
    },
    {
     "name": "stdout",
     "output_type": "stream",
     "text": [
      "Generating URL...\n",
      "Downloading GIF image from https://earthengine.googleapis.com/v1/projects/ee-dkloer01/videoThumbnails/8a046b352041c13e06acb830673e1090-1150bad0221052d8864cf9fc3e2e0d53:getPixels\n",
      "Please wait ...\n",
      "The GIF image has been saved to: c:\\Users\\dkloe\\Downloads\\GIS1_Codes\\ba_change.gif\n"
     ]
    }
   ],
   "source": [
    "out_gif_ba_change = './ba_change.gif'\n",
    "geemap.download_ee_video(ba_change_, video_args_ba, out_gif_ba_change)\n",
    "\n",
    "geemap.add_text_to_gif(out_gif_ba_change, './ba_dubai_change.gif', text_sequence='Change Detection NDBI',\n",
    "                       xy=('45%', '5%'), font_size=30, font_color='white', add_progress_bar=False, duration=500)"
   ]
  },
  {
   "cell_type": "code",
   "execution_count": null,
   "id": "130d3c05",
   "metadata": {},
   "outputs": [
    {
     "data": {
      "text/html": [
       "\n",
       "            <style>\n",
       "                .geemap-dark {\n",
       "                    --jp-widgets-color: white;\n",
       "                    --jp-widgets-label-color: white;\n",
       "                    --jp-ui-font-color1: white;\n",
       "                    --jp-layout-color2: #454545;\n",
       "                    background-color: #383838;\n",
       "                }\n",
       "\n",
       "                .geemap-dark .jupyter-button {\n",
       "                    --jp-layout-color3: #383838;\n",
       "                }\n",
       "\n",
       "                .geemap-colab {\n",
       "                    background-color: var(--colab-primary-surface-color, white);\n",
       "                }\n",
       "\n",
       "                .geemap-colab .jupyter-button {\n",
       "                    --jp-layout-color3: var(--colab-primary-surface-color, white);\n",
       "                }\n",
       "            </style>\n",
       "            "
      ],
      "text/plain": [
       "<IPython.core.display.HTML object>"
      ]
     },
     "metadata": {},
     "output_type": "display_data"
    }
   ],
   "source": [
    "import matplotlib.pyplot as plt\n",
    "import numpy as np\n",
    "from matplotlib.colors import LinearSegmentedColormap\n",
    "\n",
    "ba_palette = [\n",
    "    '#1a05a9',\n",
    "    '#ffffef', # Keine Veränderung (Gelb)\n",
    "    '#ff0501'\n",
    "]\n",
    "\n",
    "# Creating a custom colormap from the list of colors\n",
    "cmap_ba = LinearSegmentedColormap.from_list(\"my_ba_cmap\", ba_palette)\n",
    "\n",
    "fig, ax = plt.subplots(figsize=(6, 1), facecolor='black') # This line creates a Matplotlib figure and an axes object.\n",
    "gradient = np.linspace(-1, 1, 256).reshape(1, -1) # This line creates a 1D NumPy array named 'gradient' containing 256 evenly spaced values between -1 and 1 \n",
    "ax.imshow(gradient, aspect='auto', cmap=cmap_ba) \n",
    "\n",
    "# Re-enable axes\n",
    "ax.set_axis_on()\n",
    "\n",
    "# Set ticks and labels\n",
    "ax.set_xticks([0, 255])  # Positions for the Ticks \n",
    "ax.set_xticklabels(['-1', '1'], color='white') # Labels for the Ticks\n",
    "\n",
    "\n",
    "ax.set_yticks([])\n",
    "\n",
    "# Remove top, right, and left axis spines\n",
    "ax.spines['top'].set_visible(False)\n",
    "ax.spines['right'].set_visible(False)\n",
    "ax.spines['left'].set_visible(False)\n",
    "ax.spines['bottom'].set_color('white') # This line sets the color of the bottom axis spine to white\n",
    "\n",
    "# This line sets the color of the x-axis tick marks to white\n",
    "ax.tick_params(axis='x', colors='white')\n",
    "\n",
    "plt.savefig(\"legend_NDBI.png\", bbox_inches='tight', pad_inches=0)\n",
    "plt.close()"
   ]
  },
  {
   "cell_type": "code",
   "execution_count": null,
   "id": "e10f8dfe",
   "metadata": {},
   "outputs": [
    {
     "data": {
      "text/html": [
       "\n",
       "            <style>\n",
       "                .geemap-dark {\n",
       "                    --jp-widgets-color: white;\n",
       "                    --jp-widgets-label-color: white;\n",
       "                    --jp-ui-font-color1: white;\n",
       "                    --jp-layout-color2: #454545;\n",
       "                    background-color: #383838;\n",
       "                }\n",
       "\n",
       "                .geemap-dark .jupyter-button {\n",
       "                    --jp-layout-color3: #383838;\n",
       "                }\n",
       "\n",
       "                .geemap-colab {\n",
       "                    background-color: var(--colab-primary-surface-color, white);\n",
       "                }\n",
       "\n",
       "                .geemap-colab .jupyter-button {\n",
       "                    --jp-layout-color3: var(--colab-primary-surface-color, white);\n",
       "                }\n",
       "            </style>\n",
       "            "
      ],
      "text/plain": [
       "<IPython.core.display.HTML object>"
      ]
     },
     "metadata": {},
     "output_type": "display_data"
    }
   ],
   "source": [
    "ba_change_palette = [\n",
    "    '#1a05a9',\n",
    "    '#ffffef', \n",
    "    '#ff0501'\n",
    "]\n",
    "\n",
    "# Creating a custom colormap from the list of colors\n",
    "cmap_ba_change = LinearSegmentedColormap.from_list(\"my_ba_change_cmap\", ba_change_palette)\n",
    "\n",
    "fig, ax = plt.subplots(figsize=(6, 1), facecolor='black') # This line creates a Matplotlib figure and an axes object.\n",
    "gradient = np.linspace(-1, 1, 256).reshape(1, -1) # This line creates a 1D NumPy array named 'gradient' containing 256 evenly spaced values between -1 and 1 \n",
    "ax.imshow(gradient, aspect='auto', cmap=cmap_ba_change) \n",
    "\n",
    "# Re-enable axes\n",
    "ax.set_axis_on()\n",
    "\n",
    "# Set ticks and labels\n",
    "ax.set_xticks([0, 255])  # Positions for the Ticks \n",
    "ax.set_xticklabels(['decrease', 'increase'], color='white') # Labels for the Ticks\n",
    "\n",
    "ax.set_yticks([])\n",
    "\n",
    "# Remove top, right, and left axis spines\n",
    "ax.spines['top'].set_visible(False)\n",
    "ax.spines['right'].set_visible(False)\n",
    "ax.spines['left'].set_visible(False)\n",
    "ax.spines['bottom'].set_color('white') # This line sets the color of the bottom axis spine to white\n",
    "\n",
    "# This line sets the color of the x-axis tick marks to white\n",
    "ax.tick_params(axis='x', colors='white')\n",
    "\n",
    "plt.savefig(\"legend_NDBI_Change.png\", bbox_inches='tight', pad_inches=0)\n",
    "plt.close()"
   ]
  }
 ],
 "metadata": {
  "kernelspec": {
   "display_name": "GIS1",
   "language": "python",
   "name": "python3"
  },
  "language_info": {
   "codemirror_mode": {
    "name": "ipython",
    "version": 3
   },
   "file_extension": ".py",
   "mimetype": "text/x-python",
   "name": "python",
   "nbconvert_exporter": "python",
   "pygments_lexer": "ipython3",
   "version": "3.11.5"
  }
 },
 "nbformat": 4,
 "nbformat_minor": 5
}
