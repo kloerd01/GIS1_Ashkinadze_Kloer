{
 "cells": [
  {
   "cell_type": "markdown",
   "id": "e451b98a",
   "metadata": {},
   "source": [
    "# **GIF Timelapse of True Color Images of Dubai** \n",
    "\n",
    "# Urban Evolution of Dubai - A Comparative Remote Sensing Analysis from 1995 to 2024\n",
    "\n",
    "**Erik Ashkinadze (erik.ashkinadze@ruhr-uni-bochum.de)**\n",
    "\n",
    "**Devon Klör (devon.kloer@ruhr-uni-bochum.de)**\n",
    "\n",
    "**Course:** Geographic Information Systems (GIS I): Databases and Programming\n",
    "\n",
    "**Professor:** Jun.-Prof. Dr. Andreas Rienow\n",
    "\n",
    "**References:** Results from Notebook \"True_Colour_Dubai.ipynb\"\n",
    "\n",
    "**Repository:** GIS 1 Course \"03_Create_landsat_timelapse_byQuishengWu\""
   ]
  },
  {
   "cell_type": "code",
   "execution_count": null,
   "id": "85418b29",
   "metadata": {},
   "outputs": [],
   "source": [
    "import geemap\n",
    "import os\n",
    "import ee\n",
    "import glob"
   ]
  },
  {
   "cell_type": "code",
   "execution_count": null,
   "id": "70a5d657",
   "metadata": {},
   "outputs": [],
   "source": [
    "ee.Initialize(project='ee-dkloer01')"
   ]
  },
  {
   "cell_type": "code",
   "execution_count": null,
   "id": "a737a5df",
   "metadata": {},
   "outputs": [],
   "source": [
    "# import Dubai Shapefile\n",
    "shapefile_path = \"./Dubai_Shapes/Dubai.shp\"\n",
    "dubai = geemap.shp_to_ee(shapefile_path)"
   ]
  },
  {
   "cell_type": "code",
   "execution_count": null,
   "id": "cedf8d72",
   "metadata": {},
   "outputs": [],
   "source": [
    "collection = geemap.landsat_timeseries(roi=dubai, start_year=1995, end_year=2024)"
   ]
  },
  {
   "cell_type": "code",
   "execution_count": null,
   "id": "e2172c6a",
   "metadata": {},
   "outputs": [],
   "source": [
    "# Define arguments for animation function parameters.\n",
    "video_args = {\n",
    "  'dimensions': 768,\n",
    "  'region': dubai,\n",
    "  'framesPerSecond': 7,\n",
    "  'bands': ['Red', 'Green', 'Blue'],\n",
    "  'min': 0,\n",
    "  'max': 0.5,\n",
    "  'gamma': [1, 1, 1]\n",
    "}"
   ]
  },
  {
   "cell_type": "code",
   "execution_count": null,
   "id": "bdc28b1c",
   "metadata": {},
   "outputs": [],
   "source": [
    "# specifies the output file path and name for the generated GIF video\n",
    "tif_folder = \"./Ergebnisse\"\n",
    "tif_files = sorted(glob.glob(os.path.join(tif_folder, \"*.tif\")))\n",
    "\n",
    "out_gif = os.path.join(tif_folder, \"Dubai.gif\")"
   ]
  },
  {
   "cell_type": "code",
   "execution_count": null,
   "id": "8e22d826",
   "metadata": {},
   "outputs": [],
   "source": [
    "geemap.download_ee_video(collection, video_args, out_gif)"
   ]
  },
  {
   "cell_type": "code",
   "execution_count": null,
   "id": "8927ff28",
   "metadata": {},
   "outputs": [],
   "source": [
    "geemap.show_image(out_gif)"
   ]
  },
  {
   "cell_type": "code",
   "execution_count": null,
   "id": "50371784",
   "metadata": {},
   "outputs": [],
   "source": [
    "texted_gif = os.path.join(tif_folder, \"dubai_truecolor_text.gif\")\n",
    "# This function takes an existing GIF video and adds text overlays to each frame.\n",
    "geemap.add_text_to_gif(out_gif, texted_gif, xy=('3%', '5%'), text_sequence=1995, font_size=30, font_color='#ffffff', add_progress_bar=True)"
   ]
  },
  {
   "cell_type": "code",
   "execution_count": null,
   "id": "342c0c83",
   "metadata": {},
   "outputs": [],
   "source": [
    "label1 = '30 Years of Developing Dubai' # Label for the description of the GIF\n",
    "geemap.add_text_to_gif(texted_gif, texted_gif, xy=('45%', '3%'), text_sequence=label1, font_size=30, font_color='#ffffff', progress_bar_color='cyan')"
   ]
  },
  {
   "cell_type": "code",
   "execution_count": null,
   "id": "41bb5930",
   "metadata": {},
   "outputs": [],
   "source": [
    "geemap.show_image(texted_gif)"
   ]
  }
 ],
 "metadata": {
  "kernelspec": {
   "display_name": "GIS1",
   "language": "python",
   "name": "python3"
  },
  "language_info": {
   "codemirror_mode": {
    "name": "ipython",
    "version": 3
   },
   "file_extension": ".py",
   "mimetype": "text/x-python",
   "name": "python",
   "nbconvert_exporter": "python",
   "pygments_lexer": "ipython3",
   "version": "3.11.5"
  }
 },
 "nbformat": 4,
 "nbformat_minor": 5
}
