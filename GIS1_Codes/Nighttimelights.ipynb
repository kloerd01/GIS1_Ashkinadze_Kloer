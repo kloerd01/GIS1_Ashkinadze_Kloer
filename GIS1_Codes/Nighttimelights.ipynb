{
 "cells": [
  {
   "cell_type": "markdown",
   "id": "4324eec2",
   "metadata": {},
   "source": [
    "# **Night Time Lights Dubai**\n",
    "\n",
    "# Urban Evolution of Dubai - A Comparative Remote Sensing Analysis from 1995 to 2024\n",
    "\n",
    "**Erik Ashkinadze (erik.ashkinadze@ruhr-uni-bochum.de)**\n",
    "\n",
    "**Devon Klör (devon.kloer@ruhr-uni-bochum.de)**\n",
    "\n",
    "**Course:** Geographic Information Systems (GIS I): Databases and Programming\n",
    "\n",
    "**Professor:** Jun.-Prof. Dr. Andreas Rienow\n",
    "\n",
    "**References:** Google Earth Engine (o. J.d): DMSP OLS: Nighttime Lights Time Series Version 4, Defense Meteorological Program Operational Linescan System.  https://developers.google.com/earth-engine/datasets/catalog/NOAA_DMSP-OLS_NIGHTTIME_LIGHTS\n",
    "\n",
    "Google Earth Engine (o. J.e): VIIRS Nighttime Day/Night Band Composites Version 1.  https://developers.google.com/earth-engine/datasets/catalog/NOAA_VIIRS_DNB_MONTHLY_V1_VCMCFG"
   ]
  },
  {
   "cell_type": "code",
   "execution_count": null,
   "id": "81c3be45",
   "metadata": {},
   "outputs": [],
   "source": [
    "import ee\n",
    "import geemap\n",
    "\n",
    "# Initializing GEE\n",
    "ee.Initialize(project='ee-dkloer01')\n",
    "\n",
    "# Import Dubai Shapefile\n",
    "shapefile_path = \"./Dubai_Shapes/Dubai.shp\"\n",
    "dubai = geemap.shp_to_ee(shapefile_path)\n",
    "\n",
    "# =====================================\n",
    "# DMSP-OLS for 1995\n",
    "# =====================================\n",
    "dataset_1995 = ee.ImageCollection('NOAA/DMSP-OLS/NIGHTTIME_LIGHTS') \\\n",
    "    .filter(ee.Filter.date('1995-01-01', '1995-12-31')) \\\n",
    "    .filterBounds(dubai) \\\n",
    "    .median()\n",
    "nighttimeLights_1995 = dataset_1995.select('avg_vis')\n",
    "nighttimeLightsVis_1995 = {\n",
    "    'min': 3.0,\n",
    "    'max': 60.0,\n",
    "}\n",
    "\n",
    "# =====================================\n",
    "# VIIRS for 2024\n",
    "# =====================================\n",
    "viirs_2024 = ee.ImageCollection('NOAA/VIIRS/DNB/MONTHLY_V1/VCMSLCFG') \\\n",
    "    .filter(ee.Filter.date('2024-01-01', '2024-12-31')) \\\n",
    "    .filterBounds(dubai) \\\n",
    "    .median()\n",
    "\n",
    "nighttime_2024 = viirs_2024.select('avg_rad')\n",
    "nighttimeVis_2024 = {'min': 0.0, 'max': 60.0}\n",
    "\n",
    "# Create interactive Map\n",
    "m = geemap.Map(center=[25.2048, 55.2708], zoom=10)\n",
    "\n",
    "# add Layer\n",
    "m.add_layer(nighttimeLights_1995.clip(dubai), nighttimeLightsVis_1995, 'Nighttime Lights 1995')\n",
    "m.add_layer(nighttime_2024.clip(dubai), nighttimeVis_2024, 'Nighttime Lights 2024')\n",
    "m.add_layer(dubai, {'color': 'red'}, 'Study Area')\n",
    "\n",
    "# Display Map\n",
    "m"
   ]
  }
 ],
 "metadata": {
  "kernelspec": {
   "display_name": "GIS1",
   "language": "python",
   "name": "python3"
  },
  "language_info": {
   "codemirror_mode": {
    "name": "ipython",
    "version": 3
   },
   "file_extension": ".py",
   "mimetype": "text/x-python",
   "name": "python",
   "nbconvert_exporter": "python",
   "pygments_lexer": "ipython3",
   "version": "3.11.5"
  }
 },
 "nbformat": 4,
 "nbformat_minor": 5
}
