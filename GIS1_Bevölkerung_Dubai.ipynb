{
 "cells": [
  {
   "cell_type": "code",
   "execution_count": null,
   "metadata": {},
   "outputs": [
    {
     "data": {
      "text/html": [
       "\n",
       "            <style>\n",
       "                .geemap-dark {\n",
       "                    --jp-widgets-color: white;\n",
       "                    --jp-widgets-label-color: white;\n",
       "                    --jp-ui-font-color1: white;\n",
       "                    --jp-layout-color2: #454545;\n",
       "                    background-color: #383838;\n",
       "                }\n",
       "\n",
       "                .geemap-dark .jupyter-button {\n",
       "                    --jp-layout-color3: #383838;\n",
       "                }\n",
       "\n",
       "                .geemap-colab {\n",
       "                    background-color: var(--colab-primary-surface-color, white);\n",
       "                }\n",
       "\n",
       "                .geemap-colab .jupyter-button {\n",
       "                    --jp-layout-color3: var(--colab-primary-surface-color, white);\n",
       "                }\n",
       "            </style>\n",
       "            "
      ],
      "text/plain": [
       "<IPython.core.display.HTML object>"
      ]
     },
     "metadata": {},
     "output_type": "display_data"
    },
    {
     "data": {
      "application/vnd.jupyter.widget-view+json": {
       "model_id": "b6d6deca2ffd475c96f263e718bb3e7b",
       "version_major": 2,
       "version_minor": 0
      },
      "text/plain": [
       "Map(center=[25.2048, 55.2708], controls=(WidgetControl(options=['position', 'transparent_bg'], widget=SearchDa…"
      ]
     },
     "execution_count": 6,
     "metadata": {},
     "output_type": "execute_result"
    }
   ],
   "source": [
    "import ee\n",
    "import geemap\n",
    "import folium\n",
    "\n",
    "# Initialisieren Sie Earth Engine\n",
    "ee.Initialize(project='ee-dkloer01')\n",
    "\n",
    "# Basis-Karteneinstellungen\n",
    "base_change = [{\n",
    "    'featureType': 'all',\n",
    "    'stylers': [{\n",
    "        'saturation': -100\n",
    "    }, {\n",
    "        'lightness': 45\n",
    "    }]\n",
    "}]\n",
    "\n",
    "# GHSL Bevölkerungsdaten laden\n",
    "image1995 = ee.Image('JRC/GHSL/P2023A/GHS_POP/1995')\n",
    "image2005 = ee.Image('JRC/GHSL/P2023A/GHS_POP/2005')\n",
    "image2015 = ee.Image('JRC/GHSL/P2023A/GHS_POP/2015')\n",
    "image2025 = ee.Image('JRC/GHSL/P2023A/GHS_POP/2025')\n",
    "\n",
    "\n",
    "# Visualisierungsparameter für die Bevölkerungsdichte\n",
    "population_count_vis = {\n",
    "    'min': 0.0,\n",
    "    'max': 100.0,\n",
    "    'palette': ['000004', '320A5A', '781B6C', 'BB3654', 'EC6824', 'FBB41A', 'FCFFA4'],\n",
    "}\n",
    "\n",
    "# Dubai-Geometrie laden (ersetzen Sie dies durch Ihr FeatureCollection)\n",
    "# Hier wird ein Beispiel-FeatureCollection verwendet, Sie müssen es anpassen\n",
    "shapefile_path = \"C:/Users/dkloe/Downloads/Ashkinadze_Kloer/Dubai_Shapes/Dubai.shp\"\n",
    "dubai = geemap.shp_to_ee(shapefile_path)\n",
    "\n",
    "# Extrahiere die Geometrie aus der FeatureCollection\n",
    "dubai_geometry = dubai.geometry()\n",
    "\n",
    "# Auf Dubai zuschneiden und Maske anwenden\n",
    "image1995 = image1995.clip(dubai.geometry()).updateMask(image1995.gt(0))\n",
    "image2005 = image2005.clip(dubai.geometry()).updateMask(image2005.gt(0))\n",
    "image2015 = image2015.clip(dubai.geometry()).updateMask(image2015.gt(0))\n",
    "image2025 = image2025.clip(dubai.geometry()).updateMask(image2025.gt(0))\n",
    "\n",
    "# Karte erstellen\n",
    "m = geemap.Map(center=[25.2048, 55.2708], zoom=10)  # Dubai zentrieren\n",
    "\n",
    "# Layer zur Karte hinzufügen\n",
    "m.addLayer(image1995, population_count_vis, 'Bevölkerungsdichte, 1995')\n",
    "m.addLayer(image2005, population_count_vis, 'Bevölkerungsdichte, 2005')\n",
    "m.addLayer(image2015, population_count_vis, 'Bevölkerungsdichte, 2015')\n",
    "m.addLayer(image2025, population_count_vis, 'Bevölkerungsdichte, 2025')\n",
    "\n",
    "# Legende erstellen und hinzufügen\n",
    "legend_dict = {\n",
    "    \"0-14,28\": \"000004\",\n",
    "    \"14,28-28,56\": \"320A5A\",\n",
    "    \"28,56-42,84\": \"781B6C\",\n",
    "    \"42,84-57,12\": \"BB3654\",\n",
    "    \"57,12-71,4\": \"EC6824\",\n",
    "    \"71,4-85,68\": \"FBB41A\",\n",
    "    \"85,68-100\": \"FCFFA4\"\n",
    "}\n",
    "\n",
    "style = {\n",
    "    \"position\": \"fixed\",\n",
    "    \"z-index\": \"9999\",\n",
    "    \"border\": \"2px solid grey\",\n",
    "    \"background-color\": \"rgba(255, 255, 255, 0.8)\",\n",
    "    \"border-radius\": \"10px\",\n",
    "    \"padding\": \"5px\",\n",
    "    \"font-size\": \"14px\",\n",
    "    \"bottom\": \"20px\",\n",
    "    \"right\": \"5px\"\n",
    "}\n",
    "\n",
    "m.add_legend(\n",
    "    title=\"Einwohner pro km²\", legend_dict=legend_dict, draggable=False, style=style\n",
    ")\n",
    "\n",
    "\n",
    "# Karte anzeigen\n",
    "m\n",
    "\n",
    "\n",
    "# # Starte den Export\n",
    "# task = ee.batch.Export.image.toDrive(\n",
    "#     image=image1995.visualize(**population_count_vis).updateMask(image1995.mask()),\n",
    "#     description='Population_1995',\n",
    "#     folder='GIS1_Pop',\n",
    "#     scale=30,\n",
    "#     region=dubai_geometry\n",
    "# )\n",
    "# task.start()\n",
    "\n",
    "\n",
    "# # Karte als HTML-Datei exportieren\n",
    "# m.to_html(\"./dubai_population_map.html\")\n",
    "\n",
    "\n"
   ]
  },
  {
   "cell_type": "code",
   "execution_count": 4,
   "metadata": {},
   "outputs": [
    {
     "data": {
      "text/html": [
       "\n",
       "            <style>\n",
       "                .geemap-dark {\n",
       "                    --jp-widgets-color: white;\n",
       "                    --jp-widgets-label-color: white;\n",
       "                    --jp-ui-font-color1: white;\n",
       "                    --jp-layout-color2: #454545;\n",
       "                    background-color: #383838;\n",
       "                }\n",
       "\n",
       "                .geemap-dark .jupyter-button {\n",
       "                    --jp-layout-color3: #383838;\n",
       "                }\n",
       "\n",
       "                .geemap-colab {\n",
       "                    background-color: var(--colab-primary-surface-color, white);\n",
       "                }\n",
       "\n",
       "                .geemap-colab .jupyter-button {\n",
       "                    --jp-layout-color3: var(--colab-primary-surface-color, white);\n",
       "                }\n",
       "            </style>\n",
       "            "
      ],
      "text/plain": [
       "<IPython.core.display.HTML object>"
      ]
     },
     "metadata": {},
     "output_type": "display_data"
    },
    {
     "name": "stdout",
     "output_type": "stream",
     "text": [
      "Population count at the specified location: 672.3790283203125\n"
     ]
    }
   ],
   "source": [
    "image1995 = ee.Image('JRC/GHSL/P2023A/GHS_POP/2025')\n",
    "population_band = image1995.select('population_count')\n",
    "\n",
    "# Get the population count value at the ROI.\n",
    "population_value = population_band.reduceRegion(\n",
    "    reducer=ee.Reducer.max(),\n",
    "    geometry=dubai,\n",
    "    scale=100  # Scale in meters\n",
    ").get('population_count').getInfo()\n",
    "\n",
    "print(f'Population count at the specified location: {population_value}')"
   ]
  },
  {
   "cell_type": "code",
   "execution_count": 10,
   "metadata": {},
   "outputs": [
    {
     "data": {
      "text/html": [
       "\n",
       "            <style>\n",
       "                .geemap-dark {\n",
       "                    --jp-widgets-color: white;\n",
       "                    --jp-widgets-label-color: white;\n",
       "                    --jp-ui-font-color1: white;\n",
       "                    --jp-layout-color2: #454545;\n",
       "                    background-color: #383838;\n",
       "                }\n",
       "\n",
       "                .geemap-dark .jupyter-button {\n",
       "                    --jp-layout-color3: #383838;\n",
       "                }\n",
       "\n",
       "                .geemap-colab {\n",
       "                    background-color: var(--colab-primary-surface-color, white);\n",
       "                }\n",
       "\n",
       "                .geemap-colab .jupyter-button {\n",
       "                    --jp-layout-color3: var(--colab-primary-surface-color, white);\n",
       "                }\n",
       "            </style>\n",
       "            "
      ],
      "text/plain": [
       "<IPython.core.display.HTML object>"
      ]
     },
     "metadata": {},
     "output_type": "display_data"
    }
   ],
   "source": [
    "html = geemap.create_legend(\n",
    "    title=\"NLCD Land Cover Type\",\n",
    "    builtin_legend=\"NLCD\",\n",
    "    draggable=False,\n",
    "    position=\"bottomright\",\n",
    ")"
   ]
  },
  {
   "cell_type": "code",
   "execution_count": 11,
   "metadata": {},
   "outputs": [
    {
     "data": {
      "text/html": [
       "\n",
       "            <style>\n",
       "                .geemap-dark {\n",
       "                    --jp-widgets-color: white;\n",
       "                    --jp-widgets-label-color: white;\n",
       "                    --jp-ui-font-color1: white;\n",
       "                    --jp-layout-color2: #454545;\n",
       "                    background-color: #383838;\n",
       "                }\n",
       "\n",
       "                .geemap-dark .jupyter-button {\n",
       "                    --jp-layout-color3: #383838;\n",
       "                }\n",
       "\n",
       "                .geemap-colab {\n",
       "                    background-color: var(--colab-primary-surface-color, white);\n",
       "                }\n",
       "\n",
       "                .geemap-colab .jupyter-button {\n",
       "                    --jp-layout-color3: var(--colab-primary-surface-color, white);\n",
       "                }\n",
       "            </style>\n",
       "            "
      ],
      "text/plain": [
       "<IPython.core.display.HTML object>"
      ]
     },
     "metadata": {},
     "output_type": "display_data"
    },
    {
     "data": {
      "application/vnd.jupyter.widget-view+json": {
       "model_id": "cd0cc74a425448dcbeffca43649aa6ef",
       "version_major": 2,
       "version_minor": 0
      },
      "text/plain": [
       "HTML(value='<!DOCTYPE html>\\n<html lang=\"en\">\\n    <head> </head>\\n    <body>\\n        <div\\n            id=\"m…"
      ]
     },
     "execution_count": 11,
     "metadata": {},
     "output_type": "execute_result"
    }
   ],
   "source": [
    "widget = geemap.show_html(html)\n",
    "widget"
   ]
  },
  {
   "cell_type": "code",
   "execution_count": 12,
   "metadata": {},
   "outputs": [
    {
     "data": {
      "text/html": [
       "\n",
       "            <style>\n",
       "                .geemap-dark {\n",
       "                    --jp-widgets-color: white;\n",
       "                    --jp-widgets-label-color: white;\n",
       "                    --jp-ui-font-color1: white;\n",
       "                    --jp-layout-color2: #454545;\n",
       "                    background-color: #383838;\n",
       "                }\n",
       "\n",
       "                .geemap-dark .jupyter-button {\n",
       "                    --jp-layout-color3: #383838;\n",
       "                }\n",
       "\n",
       "                .geemap-colab {\n",
       "                    background-color: var(--colab-primary-surface-color, white);\n",
       "                }\n",
       "\n",
       "                .geemap-colab .jupyter-button {\n",
       "                    --jp-layout-color3: var(--colab-primary-surface-color, white);\n",
       "                }\n",
       "            </style>\n",
       "            "
      ],
      "text/plain": [
       "<IPython.core.display.HTML object>"
      ]
     },
     "metadata": {},
     "output_type": "display_data"
    }
   ],
   "source": [
    "widget.close()"
   ]
  },
  {
   "cell_type": "code",
   "execution_count": 13,
   "metadata": {},
   "outputs": [
    {
     "data": {
      "text/html": [
       "\n",
       "            <style>\n",
       "                .geemap-dark {\n",
       "                    --jp-widgets-color: white;\n",
       "                    --jp-widgets-label-color: white;\n",
       "                    --jp-ui-font-color1: white;\n",
       "                    --jp-layout-color2: #454545;\n",
       "                    background-color: #383838;\n",
       "                }\n",
       "\n",
       "                .geemap-dark .jupyter-button {\n",
       "                    --jp-layout-color3: #383838;\n",
       "                }\n",
       "\n",
       "                .geemap-colab {\n",
       "                    background-color: var(--colab-primary-surface-color, white);\n",
       "                }\n",
       "\n",
       "                .geemap-colab .jupyter-button {\n",
       "                    --jp-layout-color3: var(--colab-primary-surface-color, white);\n",
       "                }\n",
       "            </style>\n",
       "            "
      ],
      "text/plain": [
       "<IPython.core.display.HTML object>"
      ]
     },
     "metadata": {},
     "output_type": "display_data"
    }
   ],
   "source": [
    "legend_dict = {\n",
    "    \"10 Trees\": \"006400\",\n",
    "    \"20 Shrubland\": \"ffbb22\",\n",
    "    \"30 Grassland\": \"ffff4c\",\n",
    "    \"40 Cropland\": \"f096ff\",\n",
    "    \"50 Built-up\": \"fa0000\",\n",
    "    \"60 Barren / sparse vegetation\": \"b4b4b4\",\n",
    "    \"70 Snow and ice\": \"f0f0f0\",\n",
    "    \"80 Open water\": \"0064c8\",\n",
    "    \"90 Herbaceous wetland\": \"0096a0\",\n",
    "    \"95 Mangroves\": \"00cf75\",\n",
    "    \"100 Moss and lichen\": \"fae6a0\",\n",
    "}"
   ]
  },
  {
   "cell_type": "code",
   "execution_count": 14,
   "metadata": {},
   "outputs": [
    {
     "data": {
      "text/html": [
       "\n",
       "            <style>\n",
       "                .geemap-dark {\n",
       "                    --jp-widgets-color: white;\n",
       "                    --jp-widgets-label-color: white;\n",
       "                    --jp-ui-font-color1: white;\n",
       "                    --jp-layout-color2: #454545;\n",
       "                    background-color: #383838;\n",
       "                }\n",
       "\n",
       "                .geemap-dark .jupyter-button {\n",
       "                    --jp-layout-color3: #383838;\n",
       "                }\n",
       "\n",
       "                .geemap-colab {\n",
       "                    background-color: var(--colab-primary-surface-color, white);\n",
       "                }\n",
       "\n",
       "                .geemap-colab .jupyter-button {\n",
       "                    --jp-layout-color3: var(--colab-primary-surface-color, white);\n",
       "                }\n",
       "            </style>\n",
       "            "
      ],
      "text/plain": [
       "<IPython.core.display.HTML object>"
      ]
     },
     "metadata": {},
     "output_type": "display_data"
    }
   ],
   "source": [
    "geemap.create_legend(\n",
    "    title=\"ESA Land Cover Type\",\n",
    "    legend_dict=legend_dict,\n",
    "    draggable=False,\n",
    "    output=\"ESA_legend.html\",\n",
    ")"
   ]
  },
  {
   "cell_type": "code",
   "execution_count": 18,
   "metadata": {},
   "outputs": [
    {
     "data": {
      "text/html": [
       "\n",
       "            <style>\n",
       "                .geemap-dark {\n",
       "                    --jp-widgets-color: white;\n",
       "                    --jp-widgets-label-color: white;\n",
       "                    --jp-ui-font-color1: white;\n",
       "                    --jp-layout-color2: #454545;\n",
       "                    background-color: #383838;\n",
       "                }\n",
       "\n",
       "                .geemap-dark .jupyter-button {\n",
       "                    --jp-layout-color3: #383838;\n",
       "                }\n",
       "\n",
       "                .geemap-colab {\n",
       "                    background-color: var(--colab-primary-surface-color, white);\n",
       "                }\n",
       "\n",
       "                .geemap-colab .jupyter-button {\n",
       "                    --jp-layout-color3: var(--colab-primary-surface-color, white);\n",
       "                }\n",
       "            </style>\n",
       "            "
      ],
      "text/plain": [
       "<IPython.core.display.HTML object>"
      ]
     },
     "metadata": {},
     "output_type": "display_data"
    },
    {
     "data": {
      "application/vnd.jupyter.widget-view+json": {
       "model_id": "f3468a2c80444152bf5c319701fa61f0",
       "version_major": 2,
       "version_minor": 0
      },
      "text/plain": [
       "Map(center=[0, 0], controls=(WidgetControl(options=['position', 'transparent_bg'], widget=SearchDataGUI(childr…"
      ]
     },
     "execution_count": 18,
     "metadata": {},
     "output_type": "execute_result"
    }
   ],
   "source": [
    "m = geemap.Map()\n",
    "m.add_basemap(\"ESA Worldcover 2021\")\n",
    "\n",
    "style = {\n",
    "    \"position\": \"fixed\",\n",
    "    \"z-index\": \"9999\",\n",
    "    \"border\": \"2px solid grey\",\n",
    "    \"background-color\": \"rgba(255, 255, 255, 0.8)\",\n",
    "    \"border-radius\": \"10px\",\n",
    "    \"padding\": \"5px\",\n",
    "    \"font-size\": \"14px\",\n",
    "    \"bottom\": \"20px\",\n",
    "    \"right\": \"5px\",\n",
    "}\n",
    "\n",
    "m.add_legend(\n",
    "    title=\"ESA Land Cover Type\", legend_dict=legend_dict, draggable=False, style=style\n",
    ")\n",
    "m"
   ]
  },
  {
   "cell_type": "code",
   "execution_count": 20,
   "metadata": {},
   "outputs": [
    {
     "data": {
      "text/html": [
       "\n",
       "            <style>\n",
       "                .geemap-dark {\n",
       "                    --jp-widgets-color: white;\n",
       "                    --jp-widgets-label-color: white;\n",
       "                    --jp-ui-font-color1: white;\n",
       "                    --jp-layout-color2: #454545;\n",
       "                    background-color: #383838;\n",
       "                }\n",
       "\n",
       "                .geemap-dark .jupyter-button {\n",
       "                    --jp-layout-color3: #383838;\n",
       "                }\n",
       "\n",
       "                .geemap-colab {\n",
       "                    background-color: var(--colab-primary-surface-color, white);\n",
       "                }\n",
       "\n",
       "                .geemap-colab .jupyter-button {\n",
       "                    --jp-layout-color3: var(--colab-primary-surface-color, white);\n",
       "                }\n",
       "            </style>\n",
       "            "
      ],
      "text/plain": [
       "<IPython.core.display.HTML object>"
      ]
     },
     "metadata": {},
     "output_type": "display_data"
    },
    {
     "data": {
      "application/vnd.jupyter.widget-view+json": {
       "model_id": "fdf13d3eb29e4b779358bbefbcf4d725",
       "version_major": 2,
       "version_minor": 0
      },
      "text/plain": [
       "Map(center=[0, 0], controls=(WidgetControl(options=['position', 'transparent_bg'], widget=SearchDataGUI(childr…"
      ]
     },
     "execution_count": 20,
     "metadata": {},
     "output_type": "execute_result"
    }
   ],
   "source": [
    "m = geemap.Map()\n",
    "m.add_basemap(\"ESA Worldcover 2021\")\n",
    "m.add_legend(title=\"ESA Land Cover Type\", builtin_legend=\"ESA_WorldCover\")\n",
    "m"
   ]
  },
  {
   "cell_type": "code",
   "execution_count": 27,
   "metadata": {},
   "outputs": [
    {
     "data": {
      "text/html": [
       "\n",
       "            <style>\n",
       "                .geemap-dark {\n",
       "                    --jp-widgets-color: white;\n",
       "                    --jp-widgets-label-color: white;\n",
       "                    --jp-ui-font-color1: white;\n",
       "                    --jp-layout-color2: #454545;\n",
       "                    background-color: #383838;\n",
       "                }\n",
       "\n",
       "                .geemap-dark .jupyter-button {\n",
       "                    --jp-layout-color3: #383838;\n",
       "                }\n",
       "\n",
       "                .geemap-colab {\n",
       "                    background-color: var(--colab-primary-surface-color, white);\n",
       "                }\n",
       "\n",
       "                .geemap-colab .jupyter-button {\n",
       "                    --jp-layout-color3: var(--colab-primary-surface-color, white);\n",
       "                }\n",
       "            </style>\n",
       "            "
      ],
      "text/plain": [
       "<IPython.core.display.HTML object>"
      ]
     },
     "metadata": {},
     "output_type": "display_data"
    },
    {
     "data": {
      "application/vnd.jupyter.widget-view+json": {
       "model_id": "8ee7bde2a1194b189a0406a0621ae0f4",
       "version_major": 2,
       "version_minor": 0
      },
      "text/plain": [
       "Map(center=[40, -100], controls=(ZoomControl(options=['position', 'zoom_in_text', 'zoom_in_title', 'zoom_out_t…"
      ]
     },
     "execution_count": 27,
     "metadata": {},
     "output_type": "execute_result"
    }
   ],
   "source": [
    "m = geemap.Map(\n",
    "    center=[40, -100],\n",
    "    zoom=4,\n",
    "    draw_control=False,\n",
    "    measure_control=False,\n",
    "    scale_control=False,\n",
    ")\n",
    "m.split_map(left_layer=\"ESA Worldcover 2021\", right_layer=\"NLCD 2019 CONUS Land Cover\")\n",
    "m.add_legend(\n",
    "    title=\"ESA Land Cover Type\",\n",
    "    builtin_legend=\"ESA_WorldCover\",\n",
    "    draggable=False,\n",
    "    position=\"bottomleft\",\n",
    "    style={\"bottom\": \"5px\"},\n",
    ")\n",
    "m.add_legend(\n",
    "    title=\"NLCD Land Cover Type\",\n",
    "    builtin_legend=\"NLCD\",\n",
    "    draggable=False,\n",
    "    position=\"bottomright\",\n",
    ")\n",
    "m"
   ]
  }
 ],
 "metadata": {
  "kernelspec": {
   "display_name": "GIS1",
   "language": "python",
   "name": "python3"
  },
  "language_info": {
   "codemirror_mode": {
    "name": "ipython",
    "version": 3
   },
   "file_extension": ".py",
   "mimetype": "text/x-python",
   "name": "python",
   "nbconvert_exporter": "python",
   "pygments_lexer": "ipython3",
   "version": "3.11.5"
  }
 },
 "nbformat": 4,
 "nbformat_minor": 2
}
