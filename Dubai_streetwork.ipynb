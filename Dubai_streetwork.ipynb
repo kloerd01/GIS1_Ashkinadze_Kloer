{
 "cells": [
  {
   "cell_type": "markdown",
   "id": "bc13dc24",
   "metadata": {},
   "source": [
    "## **Streetnetwork of Dubai**\n",
    "\n",
    "# Urban Evolution of Dubai - A Comparative Remote Sensing Analysis from 1995 to 2024\n",
    "\n",
    "**Erik Ashkinadze (erik.ashkinadze@ruhr-uni-bochum.de)**\n",
    "\n",
    "**Devon Klör (devon.kloer@ruhr-uni-bochum.de)**\n",
    "\n",
    "**Course:** Geographic Information Systems (GIS I): Databases and Programming\n",
    "\n",
    "**Professor:** Jun.-Prof. Dr. Andreas Rienow\n",
    "\n",
    "**Reference:** Boeing, G. (2016): OSMnx: Python for Street Networks https://geoffboeing.com/2016/11/osmnx-python-street-networks/\n",
    "\n",
    "**Repository:** GIS 1 Course \"03-2_city_streetwork\""
   ]
  },
  {
   "cell_type": "code",
   "execution_count": null,
   "id": "9ec82ff7",
   "metadata": {},
   "outputs": [
    {
     "data": {
      "text/plain": [
       "'2.0.1'"
      ]
     },
     "execution_count": 1,
     "metadata": {},
     "output_type": "execute_result"
    }
   ],
   "source": [
    "import datetime\n",
    "import matplotlib.pyplot as plt\n",
    "import numpy as np\n",
    "import osmnx as ox\n",
    "import pandas as pd"
   ]
  },
  {
   "cell_type": "code",
   "execution_count": null,
   "id": "a9cd721d",
   "metadata": {},
   "outputs": [],
   "source": [
    "\n",
    "G = ox.graph_from_place(\"Dubai, United Arab Emirates\", network_type=\"drive\")\n",
    "# This line uses the `graph_from_place` function of the `osmnx` library.\n",
    "# It downloads Dubai's road network and creates a directed graph (G) from it.\n",
    "# The parameter `network_type=\"drive\"` specifies that only roads should be considered.\n",
    "\n",
    "\n",
    "# Konvertiere den Graphen in Node- und Edge-GeoDataFrames\n",
    "nodes, edges = ox.graph_to_gdfs(G)\n",
    "# It converts the previously created graph object 'G' into two GeoDataFrames:\n",
    "# - 'nodes': A GeoDataFrame containing information about the nodes (intersections, endpoints) of the network, including their geographical coordinates.\n",
    "# - 'edges': A GeoDataFrame containing information about the edges (road segments) of the network, including their geometry (as linestrings) and attributes such as length, name, etc.\n",
    "\n",
    "# Saving the edges as Shapefile\n",
    "edges_output_path = \"./Dubai_Shapes/Dubai_Street_Edges.shp\"\n",
    "edges.to_file(edges_output_path)\n",
    "\n",
    "fig, ax = ox.plot_graph(G, node_size=0, edge_color=\"gray\", bgcolor=\"black\")"
   ]
  }
 ],
 "metadata": {
  "kernelspec": {
   "display_name": "GIS1",
   "language": "python",
   "name": "python3"
  },
  "language_info": {
   "codemirror_mode": {
    "name": "ipython",
    "version": 3
   },
   "file_extension": ".py",
   "mimetype": "text/x-python",
   "name": "python",
   "nbconvert_exporter": "python",
   "pygments_lexer": "ipython3",
   "version": "3.11.5"
  }
 },
 "nbformat": 4,
 "nbformat_minor": 5
}
